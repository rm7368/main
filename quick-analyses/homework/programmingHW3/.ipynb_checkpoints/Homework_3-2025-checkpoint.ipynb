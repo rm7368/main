{
 "cells": [
  {
   "cell_type": "markdown",
   "metadata": {
    "id": "zNoscAmDE-kR"
   },
   "source": [
    "## **Homework 3: Python Command Line Interface**"
   ]
  },
  {
   "cell_type": "markdown",
   "metadata": {
    "id": "8OaToJRnE-kT"
   },
   "source": [
    "#### **Due - 10/08/2025 at 5pm on Gradescope**"
   ]
  },
  {
   "cell_type": "markdown",
   "metadata": {
    "id": "qS9cREDKE-kT"
   },
   "source": [
    "Make sure your code is well documented with comments **(1 point)**. Clearly mark different sections of your code corresponding to the questions."
   ]
  },
  {
   "cell_type": "markdown",
   "metadata": {
    "id": "GuxRUwLDE-kT"
   },
   "source": [
    "**Remember:** *You are not allowed to use any modules that have not been used in class!*  \n",
    "\n",
    "*Double check your python notebook that it contains all the answers clearly before submission.*\n",
    "\n",
    "You may document your code like this:\n",
    "\n"
   ]
  },
  {
   "cell_type": "code",
   "execution_count": null,
   "metadata": {
    "id": "G-PYygsNE-kU"
   },
   "outputs": [],
   "source": [
    "def myfunction(arg):\n",
    "\"\"\"\n",
    "This is a docstring. Surrounded by triple double-quotes. Description of the whole function goes here.\n",
    "\"\"\"\n",
    "  # This is a comment, provides concise description of following code.\n",
    "pass\n"
   ]
  },
  {
   "cell_type": "markdown",
   "metadata": {
    "id": "sc-pd5dRE-kV"
   },
   "source": [
    "##### **Submission files:**\n",
    "1. fastq_filter.py  \n",
    "2. filtered_sequencing_results.fastq\n",
    "3. Your jupyter notebook"
   ]
  },
  {
   "cell_type": "markdown",
   "metadata": {
    "id": "RMqP4bSYE-kV"
   },
   "source": [
    "### **Q1. Writing a FASTQ File Parser in Python**  \n",
    "\n",
    "This homework is to help you build a Python program that parses and processes a FASTQ file, commonly used in bioinformatics for storing nucleotide sequences along with their quality scores. You'll complete several small tasks that will allow you to progressively develop the full solution. Finally, you'll combine everything into a single program that can parse, filter, and output FASTQ data."
   ]
  },
  {
   "cell_type": "markdown",
   "metadata": {
    "id": "40kEYBU0E-kV"
   },
   "source": [
    "#### **Background Information:**\n",
    "\n",
    "**FASTQ Format:**\n",
    "\n",
    "A FASTQ file is a text-based format for storing biological sequence data, commonly used in bioinformatics. Each sequence entry in a FASTQ file consists of four lines:\n",
    "\n",
    "1. **Identifier Line:**  \n",
    "   The first line starts with the `@` symbol, followed by a unique identifier for the sequence (e.g., `@SEQ_ID`).\n",
    "\n",
    "2. **Sequence Line:**  \n",
    "   The second line contains the nucleotide sequence, represented by characters such as `A`, `T`, `G`, and `C` (or other characters if the sequence includes ambiguous bases).\n",
    "\n",
    "3. **Plus Line:**  \n",
    "   The third line begins with a `+` symbol. This line may optionally include the sequence identifier again, but often it is just a single `+`.\n",
    "\n",
    "4. **Quality Line:**  \n",
    "   The fourth line contains a string of ASCII characters, where each character represents the quality score of the corresponding nucleotide in the sequence. The length of the quality string matches the length of the sequence string."
   ]
  },
  {
   "cell_type": "markdown",
   "metadata": {
    "id": "7Ivh4EQ2E-kW"
   },
   "source": [
    "Belowed is an example of FASTQ file that contains **two sequence entries**:"
   ]
  },
  {
   "cell_type": "raw",
   "metadata": {
    "id": "PuUzfhQAE-kW"
   },
   "source": [
    "@SRR13237443.1 1 length=101\n",
    "TGACACTCGACGGAGCCGTCGTCGCGATCTCGCCCGGCGCGCCCGGGACGATCGTCTGAGCCCGAGAGACACCGGCCGTGATCTCGCGCGATCGATCGGTC\n",
    "+SRR13237443.1 1 length=101\n",
    "GGGGGIIIIIIIIIIIIIIIIIIIIIIIIIIIIIIIIIGIIIIIIIIIIIIGIIIIGIIIIIIIIGIIIIIIIIIIIIIGGIIAGGIGIIIIIIGGGGIIG\n",
    "@SRR13237443.2 2 length=101\n",
    "ATTAGGTCGTGCAGCTCGACACACTGATTAGCCCGTAGATTCGCCCGAAAGTCCCCGCGATCGGCGATCGCCGGCCTCCGACCCCGCGATTCAAGATGATT\n",
    "+SRR13237443.2 2 length=101\n",
    "GGGGGIIIIIIIIIIIGIIIIIGIIIGIIIIIIIIIIIIIIIIIIIIIIIIIIIIIIGGIIIIIIIIIIIIIIIIIGIIIIIIIIIIIGIIGGGIGGIIGI"
   ]
  },
  {
   "cell_type": "markdown",
   "metadata": {
    "id": "80UKu1N4E-kW"
   },
   "source": [
    "**Phred Quality Scores:**\n",
    "\n",
    "The quality of each nucleotide in the sequence is encoded using a **Phred quality score**, which is represented as an ASCII character. To convert an ASCII character to a Phred quality score, you subtract 33 from the ASCII value of the character.\n",
    "\n",
    "For example:\n",
    "- The character `!` has an ASCII value of 33.\n",
    "- The Phred score for `!` is calculated as:  \n",
    "  `Phred_score = ASCII_value(!) - 33 = 33 - 33 = 0`.\n",
    "\n",
    "A higher Phred score indicates higher confidence in the accuracy of the corresponding nucleotide."
   ]
  },
  {
   "cell_type": "markdown",
   "metadata": {
    "id": "GgukEhUnE-kW"
   },
   "source": [
    "#### **Q1.1: Parsing a FASTQ File**\n",
    "\n",
    "The first step in processing a FASTQ file is to extract the sequence data, including the sequence identifier, the nucleotide sequence, and the quality scores.\n",
    "\n",
    "**Requirements:**\n",
    "- Write a function called `parse_fastq(filename)` that reads a FASTQ file.\n",
    "- The function should store the identifier, sequence, and quality in **a list of dictionaries**, where each dictionary has the keys `'id'`, `'sequence'`, and `'quality'`.\n"
   ]
  },
  {
   "cell_type": "markdown",
   "metadata": {
    "id": "WIlarCM0E-kW"
   },
   "source": [
    "For example, if the input file contains:"
   ]
  },
  {
   "cell_type": "raw",
   "metadata": {
    "id": "536PGzypE-kW"
   },
   "source": [
    "@SRR13237443.1 1 length=101\n",
    "TGACACTCGACGGAGCCGTCGTCGCGATCTCGCCCGGCGCGCCCGGGACGATCGTCTGAGCCCGAGAGACACCGGCCGTGATCTCGCGCGATCGATCGGTC\n",
    "+SRR13237443.1 1 length=101\n",
    "GGGGGIIIIIIIIIIIIIIIIIIIIIIIIIIIIIIIIIGIIIIIIIIIIIIGIIIIGIIIIIIIIGIIIIIIIIIIIIIGGIIAGGIGIIIIIIGGGGIIG\n",
    "@SRR13237443.2 2 length=101\n",
    "ATTAGGTCGTGCAGCTCGACACACTGATTAGCCCGTAGATTCGCCCGAAAGTCCCCGCGATCGGCGATCGCCGGCCTCCGACCCCGCGATTCAAGATGATT\n",
    "+SRR13237443.2 2 length=101\n",
    "%%%%%&&&IIIIIIIIG%%%%%&&&IGIIIII%%%%%&&&IIIII%%%%%&&&IIIIIGGIII%%%%%&&&IIIIII%%%%%&&&IIII%%%%%&&&GIIG"
   ]
  },
  {
   "cell_type": "markdown",
   "metadata": {
    "id": "6_RMmj-XE-kX"
   },
   "source": [
    "Then your output should be:"
   ]
  },
  {
   "cell_type": "raw",
   "metadata": {
    "id": "-iysIJVjE-kX"
   },
   "source": [
    "[{'id': '@SRR13237443.1 1 length=101',\n",
    "  'sequence': 'TGACACTCGACGGAGCCGTCGTCGCGATCTCGCCCGGCGCGCCCGGGACGATCGTCTGAGCCCGAGAGACACCGGCCGTGATCTCGCGCGATCGATCGGTC',\n",
    "  'quality': 'GGGGGIIIIIIIIIIIIIIIIIIIIIIIIIIIIIIIIIGIIIIIIIIIIIIGIIIIGIIIIIIIIGIIIIIIIIIIIIIGGIIAGGIGIIIIIIGGGGIIG'},\n",
    " {'id': '@SRR13237443.2 2 length=101',\n",
    "  'sequence': 'ATTAGGTCGTGCAGCTCGACACACTGATTAGCCCGTAGATTCGCCCGAAAGTCCCCGCGATCGGCGATCGCCGGCCTCCGACCCCGCGATTCAAGATGATT',\n",
    "  'quality': '%%%%%&&&IIIIIIIIG%%%%%&&&IGIIIII%%%%%&&&IIIII%%%%%&&&IIIIIGGIII%%%%%&&&IIIIII%%%%%&&&IIII%%%%%&&&GIIG'}]"
   ]
  },
  {
   "cell_type": "markdown",
   "metadata": {
    "id": "OeAIffS8E-kX"
   },
   "source": [
    "Write your function here: **(1 point)**\n"
   ]
  },
  {
   "cell_type": "code",
   "execution_count": 70,
   "metadata": {
    "id": "njo_LertE-kX"
   },
   "outputs": [],
   "source": [
    "# Function to parse the fastq file\n",
    "def parse_fastq(filename):\n",
    "    \"\"\"\n",
    "    Parses fastq sequence file, returns list of dictionaries. Each dictionary contains id, sequence, and quality entries.\n",
    "    \"\"\"\n",
    "    with open(filename, \"r\") as f:\n",
    "        # Open file, read lines and initialize list and dictionary.\n",
    "        lines = f.readlines()\n",
    "        dictlist = []\n",
    "        seqdict = {}\n",
    "        # Clean up lines, removing trailing new line char\n",
    "        for i in lines:\n",
    "            new = i.strip(\"\\n\")\n",
    "            lines[lines.index(i)] = new\n",
    "        # Find sequence id line and verify that it has a corresponding spacer line.\n",
    "        for i in lines:\n",
    "            j = lines.index(i) + 2\n",
    "            k = lines.index(i)\n",
    "            if i.startswith(\"@\") and lines[j].startswith(\"+\"):\n",
    "    \n",
    "                # Add id, sequence, and quality entries, then append to list            \n",
    "                seqdict[\"id\"] = lines[k]\n",
    "                seqdict[\"sequence\"] = lines[k+1]\n",
    "                seqdict[\"quality\"] = lines[j+1]\n",
    "                dictlist.append(seqdict)\n",
    "                seqdict = {}\n",
    "            else:\n",
    "                continue\n",
    "        print(dictlist)\n",
    "        return(dictlist)"
   ]
  },
  {
   "cell_type": "markdown",
   "metadata": {
    "id": "lF2n6BnkE-kX"
   },
   "source": [
    "You can test your function using `sequencing_results.fastq` file: **(0.5 point)**"
   ]
  },
  {
   "cell_type": "code",
   "execution_count": 38,
   "metadata": {
    "id": "_FB_nl6UE-kX"
   },
   "outputs": [
    {
     "name": "stdout",
     "output_type": "stream",
     "text": [
      "[{'id': '@SEQ_ID1', 'sequence': 'GATTTGGGGTTCAAAGCAGTATCGATCAAATAGTAAATCCATTTGTTCAACTCACAGTTT', 'quality': \"!''*((((***+))%%%++)(%%%%).1***-+*''))**55CCF>>>>>>CCCCCCC65\"}, {'id': '@SEQ_ID2', 'sequence': 'AGCTTAGCTAGCTACGATCGTAGCTGACTAGC', 'quality': \"!'()*+,-./0123456789:;<=>?@\"}, {'id': '@SEQ_ID3', 'sequence': 'GAGGAACCGTTGCCTCCGAGTGGAAGAAGGCCGCCGACGGCTGTACAGCCTTCGAGAGGGATCAAGCGCTCGCGCGGGTGGCAGCGCATTTTCCAGATCGG', 'quality': 'GGGGGIIIIIIIIIIIIIIIIIGIIIIIIIIIIIIIIIIIIIIIIIIIIIIIIIIIIIIIIIIIIIIIIIIGIIIIIIIIIIIIIIIIIIIIIIIIIGIGI'}, {'id': '@SEQ_ID4', 'sequence': 'TTCGCGTGATTTTTTATTTCTTTCTCGATAATCTAAATGCCCTAGGGCATTTACGAGTATTATTTAGCGGCGCACTTTGAAGTCACCGAAAGAACGAAGCC', 'quality': 'GGGGGIGGAGGIIIIIIIIIGIIGGIGGIIIIIIIIIIGGGIIIIGIIIIAGGIGGIGGGGIIIIIAGGIIIIIIGGIIIIIIIGIIIIIIIIIIIGGGGG'}, {'id': '@SEQ_ID5', 'sequence': 'GGGTGATGGCCGCTGCCGATGGCGTCAAATCCCACCAAGTTACCCTTAACAACTTAAGGGTTTTCAAATAGA', 'quality': 'IIIIIIIIIIIIIIIIIIIIIIIIIIIIII9IG9ICIIIIIIIIIIIIIIIIIIIIDIIIIIII>IIIIII/'}, {'id': '@SEQ_ID6', 'sequence': 'CGTAGCTAGCTAGGCTTGACTCGTAGCTGACT', 'quality': 'BBBBBBCCCCCDDDDEEEEFFFFFGGGGGG'}, {'id': '@SEQ_ID7', 'sequence': 'GTTCAGGGATACGACGTTTGTATTTTAAGAATCTGAAGCAGAAGTCGATGATAATACGCGTCGTTTTATCAT', 'quality': 'IIIIIIIIIIIIIIIIIIIIIIIIIIIIIIII6IBIIIIIIIIIIIIIIIIIIIIIIIGII>IIIII-I)8I'}, {'id': '@SEQ_ID8', 'sequence': 'TGCATGCTAGCTAGCTGACTGACGTAGCTAGT', 'quality': '!!\"\"\"#####$$$$%%&&&&\\'\\'\\'\\'((()))))'}, {'id': '@SEQ_ID9', 'sequence': 'ATCGTAGCTAGCTACGTGCATGCATGCTAGCT', 'quality': '\"\"\"\"\"\"\"\"&&&&&&))))))))**********'}]\n"
     ]
    }
   ],
   "source": [
    "parse_fastq(\"sequencing_results.fastq\")"
   ]
  },
  {
   "cell_type": "markdown",
   "metadata": {
    "id": "-Gvl4fk9E-kX"
   },
   "source": [
    "#### **Q1.2: Calculating the Average Quality Score**\n",
    "\n",
    "In FASTQ file, each nucleotide in a sequence has an associated quality score, which is stored as an ASCII-encoded string. To evaluate the sequence's quality, you need to compute the average of these Phred scores.\n",
    "\n",
    "**Requirements:**\n",
    "- Write a function `calculate_average_quality(quality_str)` that:\n",
    "  - Converts each character in the quality string into a Phred score.\n",
    "  - Calculates and returns the average Phred score.\n",
    "\n",
    "*Hints: You can get the ASCII score of a character using `ord(char)`, if you don't know how to compute the Phred score, read the background again.*"
   ]
  },
  {
   "cell_type": "markdown",
   "metadata": {
    "id": "_pNv7XUQE-kX"
   },
   "source": [
    "Write your function here: **(1 point)**"
   ]
  },
  {
   "cell_type": "code",
   "execution_count": 55,
   "metadata": {
    "id": "iwLXX2vwE-kX"
   },
   "outputs": [],
   "source": [
    "def calculate_average_quality(quality_str):\n",
    "    \"\"\"\n",
    "    Calculates the average quality score given a quality string from a FASTQ file, in an ASCII format.\n",
    "    \"\"\"\n",
    "    # Initialize score list.\n",
    "    charscorelist = []\n",
    "    # Convert ASCII to Phred score and append to list.\n",
    "    for char in quality_str:\n",
    "        phred = ord(char) - 33\n",
    "        charscorelist.append(phred)\n",
    "    # Calculate average of Phred score list.\n",
    "    avg = sum(charscorelist)/len(charscorelist)\n",
    "    print(f\"The average quality score of this string is {avg}\")\n",
    "    return avg"
   ]
  },
  {
   "cell_type": "markdown",
   "metadata": {
    "id": "cp-Q2Il7E-kX"
   },
   "source": [
    "Try to use your function to calculate the quality score of this ASCII-encoded string?  "
   ]
  },
  {
   "cell_type": "code",
   "execution_count": 53,
   "metadata": {
    "id": "FB5UlUrTE-kX"
   },
   "outputs": [],
   "source": [
    "testing_string = \"!#%&')*+,-./0123456789:;<=>?@AB\""
   ]
  },
  {
   "cell_type": "code",
   "execution_count": 56,
   "metadata": {
    "id": "NygsxwlhE-kX"
   },
   "outputs": [
    {
     "name": "stdout",
     "output_type": "stream",
     "text": [
      "The average quality score of this string is 17.741935483870968\n"
     ]
    },
    {
     "data": {
      "text/plain": [
       "17.741935483870968"
      ]
     },
     "execution_count": 56,
     "metadata": {},
     "output_type": "execute_result"
    }
   ],
   "source": [
    "calculate_average_quality(testing_string)"
   ]
  },
  {
   "cell_type": "markdown",
   "metadata": {
    "id": "tenzKHAcE-kX"
   },
   "source": [
    "#### **Q1.3: Filtering Sequences by Quality**\n",
    "\n",
    "Often, the FASTQ file comes from sequencing. Before you perform any analysis, it is important to filter out sequences with low quality. You’ll now create a function that removes sequences whose average quality is below a certain threshold.\n",
    "\n",
    "**Requirements:**\n",
    "- Write a function `filter_sequences(sequences, threshold)` that:\n",
    "  - Filters out sequences whose average quality score (calculated using `calculate_average_quality`) is below the given threshold.\n",
    "  - Returns a list of sequences that meet or exceed the threshold.\n",
    "  - The `sequences` input format will be exactly the same as the output in **Q1.1**."
   ]
  },
  {
   "cell_type": "markdown",
   "metadata": {
    "id": "jQpU36aCE-kY"
   },
   "source": [
    "Write your function here: **(1 point)**"
   ]
  },
  {
   "cell_type": "code",
   "execution_count": 62,
   "metadata": {
    "id": "s0cLgO9_E-kY"
   },
   "outputs": [],
   "source": [
    "def filter_sequences(sequences, threshold):\n",
    "    \"\"\"\n",
    "    Filter bad sequences out of a parsed list of fastq sequences.\n",
    "    \"\"\"\n",
    "    # Initialize list of sequences.\n",
    "    goodseqs = []\n",
    "    # Calculate quality score, append to list if over threshold.\n",
    "    for i in sequences:\n",
    "        if calculate_average_quality(i[\"quality\"]) >= threshold:\n",
    "            goodseqs.append(i)\n",
    "        else:\n",
    "            continue\n",
    "    print(goodseqs)\n",
    "    return(goodseqs)"
   ]
  },
  {
   "cell_type": "markdown",
   "metadata": {
    "id": "ZjcO3wUME-kY"
   },
   "source": [
    "Use score `30` as your threshold, test your code using sequence list belowed:\n",
    "```\n",
    "sequence_list = [{'id': '@SRR13237443.1 1 length=101',\n",
    "  'sequence': 'TGACACTCGACGGAGCCGTCGTCGCGATCTCGCCCGGCGCGCCCGGGACGATCGTCTGAGCCCGAGAGACACCGGCCGTGATCTCGCGCGATCGATCGGTC',\n",
    "  'quality': 'GGGGGIIIIIIIIIIIIIIIIIIIIIIIIIIIIIIIIIGIIIIIIIIIIIIGIIIIGIIIIIIIIGIIIIIIIIIIIIIGGIIAGGIGIIIIIIGGGGIIG'},\n",
    " {'id': '@SRR13237443.2 2 length=101',\n",
    "  'sequence': 'ATTAGGTCGTGCAGCTCGACACACTGATTAGCCCGTAGATTCGCCCGAAAGTCCCCGCGATCGGCGATCGCCGGCCTCCGACCCCGCGATTCAAGATGATT',\n",
    "  'quality': '%%%%%&&&IIIIIIIIG%%%%%&&&IGIIIII%%%%%&&&IIIII%%%%%&&&IIIIIGGIII%%%%%&&&IIIIII%%%%%&&&IIII%%%%%&&&GIIG'}]\n",
    "```"
   ]
  },
  {
   "cell_type": "code",
   "execution_count": 63,
   "metadata": {
    "id": "j_tIGII-E-kY"
   },
   "outputs": [
    {
     "name": "stdout",
     "output_type": "stream",
     "text": [
      "The average quality score of this string is 39.54455445544554\n",
      "The average quality score of this string is 20.128712871287128\n",
      "[{'id': '@SRR13237443.1 1 length=101', 'sequence': 'TGACACTCGACGGAGCCGTCGTCGCGATCTCGCCCGGCGCGCCCGGGACGATCGTCTGAGCCCGAGAGACACCGGCCGTGATCTCGCGCGATCGATCGGTC', 'quality': 'GGGGGIIIIIIIIIIIIIIIIIIIIIIIIIIIIIIIIIGIIIIIIIIIIIIGIIIIGIIIIIIIIGIIIIIIIIIIIIIGGIIAGGIGIIIIIIGGGGIIG'}]\n"
     ]
    },
    {
     "data": {
      "text/plain": [
       "[{'id': '@SRR13237443.1 1 length=101',\n",
       "  'sequence': 'TGACACTCGACGGAGCCGTCGTCGCGATCTCGCCCGGCGCGCCCGGGACGATCGTCTGAGCCCGAGAGACACCGGCCGTGATCTCGCGCGATCGATCGGTC',\n",
       "  'quality': 'GGGGGIIIIIIIIIIIIIIIIIIIIIIIIIIIIIIIIIGIIIIIIIIIIIIGIIIIGIIIIIIIIGIIIIIIIIIIIIIGGIIAGGIGIIIIIIGGGGIIG'}]"
      ]
     },
     "execution_count": 63,
     "metadata": {},
     "output_type": "execute_result"
    }
   ],
   "source": [
    "sequence_list = [{'id': '@SRR13237443.1 1 length=101',\n",
    "  'sequence': 'TGACACTCGACGGAGCCGTCGTCGCGATCTCGCCCGGCGCGCCCGGGACGATCGTCTGAGCCCGAGAGACACCGGCCGTGATCTCGCGCGATCGATCGGTC',\n",
    "  'quality': 'GGGGGIIIIIIIIIIIIIIIIIIIIIIIIIIIIIIIIIGIIIIIIIIIIIIGIIIIGIIIIIIIIGIIIIIIIIIIIIIGGIIAGGIGIIIIIIGGGGIIG'},\n",
    " {'id': '@SRR13237443.2 2 length=101',\n",
    "  'sequence': 'ATTAGGTCGTGCAGCTCGACACACTGATTAGCCCGTAGATTCGCCCGAAAGTCCCCGCGATCGGCGATCGCCGGCCTCCGACCCCGCGATTCAAGATGATT',\n",
    "  'quality': '%%%%%&&&IIIIIIIIG%%%%%&&&IGIIIII%%%%%&&&IIIII%%%%%&&&IIIIIGGIII%%%%%&&&IIIIII%%%%%&&&IIII%%%%%&&&GIIG'}]\n",
    "filter_sequences(sequence_list, 30)"
   ]
  },
  {
   "cell_type": "markdown",
   "metadata": {
    "id": "BoW0_g10E-kY"
   },
   "source": [
    "#### **Q1.4: Writing Filtered Sequences to a FASTQ File**\n",
    "\n",
    "After filtering, you will need to output the remaining sequences which pass the quality control to a new FASTQ file while maintaining the same format.\n",
    "\n",
    "**Requirements:**\n",
    "- Write a function `write_fastq(sequences, output_filename)` that:\n",
    "  - Takes a list of sequences (filtered by `filter_sequences`).\n",
    "  - Writes them to a new FASTQ file, with each sequence in the correct 4-line format.\n"
   ]
  },
  {
   "cell_type": "markdown",
   "metadata": {
    "id": "uC7HHuHAE-kY"
   },
   "source": [
    "Write your function here: **(1 point)**"
   ]
  },
  {
   "cell_type": "code",
   "execution_count": 76,
   "metadata": {
    "id": "kz1d0IPIE-kY"
   },
   "outputs": [],
   "source": [
    "def write_fastq(sequences, output_filename):\n",
    "    \"\"\"\n",
    "    Writes filtered fastq sequences to a new fastq file.\n",
    "    \"\"\"\n",
    "    # Creates file, write each line individually for each sequence in sequences list.\n",
    "    with open(output_filename, \"w\") as file:\n",
    "        for i in sequences:\n",
    "            file.write(i[\"id\"] + \"\\n\")\n",
    "            file.write(i[\"sequence\"] + \"\\n\")\n",
    "            file.write(\"+\" + i[\"id\"].strip(\"@\") + \"\\n\")\n",
    "            file.write(i[\"quality\"] + \"\\n\")"
   ]
  },
  {
   "cell_type": "markdown",
   "metadata": {
    "id": "-1aCnZt3E-kY"
   },
   "source": [
    "#### **Q1.5: Handling Command-Line Inputs with `argparse`**\n",
    "\n",
    "Finally, to make your script more user-friendly, you'll use the `argparse` module to allow users to specify the input file, output file, and quality threshold from the Linux command line. And use your previously defined function to write the output file.\n",
    "\n",
    "**Requirements:**\n",
    "- Set up `argparse` module to handle three command-line arguments, please make sure to add help information to those arguments: **(1 point)**\n",
    "  - `--input`: the input FASTQ file.\n",
    "  - `--output`: the output FASTQ file.\n",
    "  - `--threshold`: the quality threshold for filtering sequences.\n",
    "- When the command is running, it should also generate some information and print it to the screen: **(0.5 point)**\n",
    "  - Total sequeneces?\n",
    "  - How many sequences pass the filtering threshold?\n",
    "  - How many sequences are filtering out?\n",
    "- We want the those aboved only run when they are conducted as a command line. If it's imported, no results should be generated. **(0.5 point)**"
   ]
  },
  {
   "cell_type": "markdown",
   "metadata": {
    "id": "aRcRAplKE-kY"
   },
   "source": [
    "Write your code here:"
   ]
  },
  {
   "cell_type": "code",
   "execution_count": 72,
   "metadata": {
    "id": "GOITX0aNE-kY"
   },
   "outputs": [],
   "source": [
    "import argparse\n",
    "\n",
    "def main():\n",
    "\n",
    "    \"\"\"\n",
    "    Defines argument parser for function.\n",
    "    \"\"\"\n",
    "    # Initialize argument parser and add arguments.\n",
    "    parser = argparse.ArgumentParser(description=\"A script that filters a list of FASTQ sequences based on their Phred quality scores.\")\n",
    "    parser.add_argument(\"--input\", type=str, help=\"Path to the input file.\")\n",
    "    parser.add_argument(\"--output\", type=str, help=\"Path to the output file.\")\n",
    "    parser.add_argument(\"--threshold\", type=int, help=\"Threshold score. All sequences with a higher average Phred quality score will be written to the new file.\")\n",
    "    args = parser.parse_args()\n",
    "\n",
    "    dictlist = parse_fastq(args.input)\n",
    "    filtered = filter_sequences(dictlist, args.threshold)\n",
    "    write_fastq(filtered, args.output)\n",
    "    \n",
    "    print(f\"Total sequences: {len(dictlist)}\")\n",
    "    print(f\"{len(args.output)/4} sequences passed filtering.\")\n",
    "    print(f\"{len(dictlist)-(len(args.output)/4)} sequences did not pass filtering.\")\n",
    "    \n",
    "# Only run when conducted as command line.\n",
    "if __name__ == \"__main__\":\n",
    "    main()"
   ]
  },
  {
   "cell_type": "code",
   "execution_count": 83,
   "metadata": {
    "id": "GOITX0aNE-kY"
   },
   "outputs": [
    {
     "name": "stdout",
     "output_type": "stream",
     "text": [
      "[{'id': '@SEQ_ID1', 'sequence': 'GATTTGGGGTTCAAAGCAGTATCGATCAAATAGTAAATCCATTTGTTCAACTCACAGTTT', 'quality': \"!''*((((***+))%%%++)(%%%%).1***-+*''))**55CCF>>>>>>CCCCCCC65\"}, {'id': '@SEQ_ID2', 'sequence': 'AGCTTAGCTAGCTACGATCGTAGCTGACTAGC', 'quality': \"!'()*+,-./0123456789:;<=>?@\"}, {'id': '@SEQ_ID3', 'sequence': 'GAGGAACCGTTGCCTCCGAGTGGAAGAAGGCCGCCGACGGCTGTACAGCCTTCGAGAGGGATCAAGCGCTCGCGCGGGTGGCAGCGCATTTTCCAGATCGG', 'quality': 'GGGGGIIIIIIIIIIIIIIIIIGIIIIIIIIIIIIIIIIIIIIIIIIIIIIIIIIIIIIIIIIIIIIIIIIGIIIIIIIIIIIIIIIIIIIIIIIIIGIGI'}, {'id': '@SEQ_ID4', 'sequence': 'TTCGCGTGATTTTTTATTTCTTTCTCGATAATCTAAATGCCCTAGGGCATTTACGAGTATTATTTAGCGGCGCACTTTGAAGTCACCGAAAGAACGAAGCC', 'quality': 'GGGGGIGGAGGIIIIIIIIIGIIGGIGGIIIIIIIIIIGGGIIIIGIIIIAGGIGGIGGGGIIIIIAGGIIIIIIGGIIIIIIIGIIIIIIIIIIIGGGGG'}, {'id': '@SEQ_ID5', 'sequence': 'GGGTGATGGCCGCTGCCGATGGCGTCAAATCCCACCAAGTTACCCTTAACAACTTAAGGGTTTTCAAATAGA', 'quality': 'IIIIIIIIIIIIIIIIIIIIIIIIIIIIII9IG9ICIIIIIIIIIIIIIIIIIIIIDIIIIIII>IIIIII/'}, {'id': '@SEQ_ID6', 'sequence': 'CGTAGCTAGCTAGGCTTGACTCGTAGCTGACT', 'quality': 'BBBBBBCCCCCDDDDEEEEFFFFFGGGGGG'}, {'id': '@SEQ_ID7', 'sequence': 'GTTCAGGGATACGACGTTTGTATTTTAAGAATCTGAAGCAGAAGTCGATGATAATACGCGTCGTTTTATCAT', 'quality': 'IIIIIIIIIIIIIIIIIIIIIIIIIIIIIIII6IBIIIIIIIIIIIIIIIIIIIIIIIGII>IIIII-I)8I'}, {'id': '@SEQ_ID8', 'sequence': 'TGCATGCTAGCTAGCTGACTGACGTAGCTAGT', 'quality': '!!\"\"\"#####$$$$%%&&&&\\'\\'\\'\\'((()))))'}, {'id': '@SEQ_ID9', 'sequence': 'ATCGTAGCTAGCTACGTGCATGCATGCTAGCT', 'quality': '\"\"\"\"\"\"\"\"&&&&&&))))))))**********'}]\n",
      "The average quality score of this string is 15.066666666666666\n",
      "The average quality score of this string is 17.814814814814813\n",
      "The average quality score of this string is 39.82178217821782\n",
      "The average quality score of this string is 39.04950495049505\n",
      "The average quality score of this string is 38.861111111111114\n",
      "The average quality score of this string is 35.5\n",
      "The average quality score of this string is 38.388888888888886\n",
      "The average quality score of this string is 4.3125\n",
      "The average quality score of this string is 6.0\n",
      "[{'id': '@SEQ_ID3', 'sequence': 'GAGGAACCGTTGCCTCCGAGTGGAAGAAGGCCGCCGACGGCTGTACAGCCTTCGAGAGGGATCAAGCGCTCGCGCGGGTGGCAGCGCATTTTCCAGATCGG', 'quality': 'GGGGGIIIIIIIIIIIIIIIIIGIIIIIIIIIIIIIIIIIIIIIIIIIIIIIIIIIIIIIIIIIIIIIIIIGIIIIIIIIIIIIIIIIIIIIIIIIIGIGI'}, {'id': '@SEQ_ID4', 'sequence': 'TTCGCGTGATTTTTTATTTCTTTCTCGATAATCTAAATGCCCTAGGGCATTTACGAGTATTATTTAGCGGCGCACTTTGAAGTCACCGAAAGAACGAAGCC', 'quality': 'GGGGGIGGAGGIIIIIIIIIGIIGGIGGIIIIIIIIIIGGGIIIIGIIIIAGGIGGIGGGGIIIIIAGGIIIIIIGGIIIIIIIGIIIIIIIIIIIGGGGG'}, {'id': '@SEQ_ID5', 'sequence': 'GGGTGATGGCCGCTGCCGATGGCGTCAAATCCCACCAAGTTACCCTTAACAACTTAAGGGTTTTCAAATAGA', 'quality': 'IIIIIIIIIIIIIIIIIIIIIIIIIIIIII9IG9ICIIIIIIIIIIIIIIIIIIIIDIIIIIII>IIIIII/'}, {'id': '@SEQ_ID6', 'sequence': 'CGTAGCTAGCTAGGCTTGACTCGTAGCTGACT', 'quality': 'BBBBBBCCCCCDDDDEEEEFFFFFGGGGGG'}, {'id': '@SEQ_ID7', 'sequence': 'GTTCAGGGATACGACGTTTGTATTTTAAGAATCTGAAGCAGAAGTCGATGATAATACGCGTCGTTTTATCAT', 'quality': 'IIIIIIIIIIIIIIIIIIIIIIIIIIIIIIII6IBIIIIIIIIIIIIIIIIIIIIIIIGII>IIIII-I)8I'}]\n",
      "Total sequences: 9\n",
      "8.0 sequences passed filtering.\n",
      "1.0 sequences did not pass filtering.\n"
     ]
    }
   ],
   "source": [
    "\n",
    "dictlist = parse_fastq(\"sequencing_results.fastq\")\n",
    "filtered = filter_sequences(dictlist, 30)\n",
    "write_fastq(filtered, \"filtered_sequencing_results.fastq\")\n",
    "\n",
    "print(f\"Total sequences: {len(dictlist)}\")\n",
    "print(f\"{(((len(\"filtered_sequencing_results.fastq\"))-1)/4)} sequences passed filtering.\")\n",
    "print(f\"{len(dictlist)-(((len(\"filtered_sequencing_results.fastq\"))-1)/4)} sequences did not pass filtering.\")"
   ]
  },
  {
   "cell_type": "markdown",
   "metadata": {
    "id": "DrAbl3GPE-kY"
   },
   "source": [
    "#### **Q1.6 Wrapping Code into a Script and Testing on the Command Line**"
   ]
  },
  {
   "cell_type": "markdown",
   "metadata": {
    "id": "c3NdMPrfE-kZ"
   },
   "source": [
    "**Requirements:**\n",
    "- Combine all previous functions into one Python script named `fastq_filter.py`.\n"
   ]
  },
  {
   "cell_type": "markdown",
   "metadata": {
    "id": "YNXFO-7_E-ke"
   },
   "source": [
    "Try to run `fastq_filter.py` on the `sequencing_results.fastq` files using filtering threshold `30`, and store the results in `filtered_sequencing_results.fastq` file. **(1 point)**"
   ]
  },
  {
   "cell_type": "code",
   "execution_count": 85,
   "metadata": {
    "id": "CPik_wJyE-ke"
   },
   "outputs": [],
   "source": [
    "%run fastq_filter.py --input sequencing_results.fastq --output filtered_sequencing_results.fastq --threshold 30"
   ]
  },
  {
   "cell_type": "code",
   "execution_count": null,
   "metadata": {
    "id": "kboPEA_-E-ke"
   },
   "outputs": [],
   "source": []
  },
  {
   "cell_type": "markdown",
   "metadata": {
    "id": "mIGOkmzFE-ke"
   },
   "source": [
    "Try to use a linux command to **open the fastq file and print the content**: **(0.5 point)**"
   ]
  },
  {
   "cell_type": "code",
   "execution_count": null,
   "metadata": {
    "id": "qWI4df5qE-ke"
   },
   "outputs": [],
   "source": []
  }
 ],
 "metadata": {
  "colab": {
   "provenance": [
    {
     "file_id": "1RqIcPFDnXWup-hZdcvyCZ8-EEwi2wvbA",
     "timestamp": 1759360966692
    }
   ]
  },
  "kernelspec": {
   "display_name": "Python (pyenv)",
   "language": "python",
   "name": "myenv"
  },
  "language_info": {
   "codemirror_mode": {
    "name": "ipython",
    "version": 3
   },
   "file_extension": ".py",
   "mimetype": "text/x-python",
   "name": "python",
   "nbconvert_exporter": "python",
   "pygments_lexer": "ipython3",
   "version": "3.13.7"
  }
 },
 "nbformat": 4,
 "nbformat_minor": 4
}
