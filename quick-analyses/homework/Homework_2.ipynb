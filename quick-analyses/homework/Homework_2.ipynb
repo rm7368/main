{
 "cells": [
  {
   "cell_type": "markdown",
   "metadata": {
    "id": "uTfhyjTYD8-L"
   },
   "source": [
    "## **Homework 2: Create Python Modules**"
   ]
  },
  {
   "cell_type": "markdown",
   "metadata": {
    "id": "QnQwxYWrD8-P"
   },
   "source": [
    "#### **Due - 10/01/2025 at 5pm on Gradescope**\n"
   ]
  },
  {
   "cell_type": "markdown",
   "metadata": {},
   "source": [
    "#### **Your Name:** Razvan Matei\n",
    "#### **Partner Name:**"
   ]
  },
  {
   "cell_type": "markdown",
   "metadata": {
    "id": "-1dYoD1AD8-Q"
   },
   "source": [
    "Make sure your code is well documented with comments **(1 point)**. Clearly mark different sections of your code corresponding to the questions."
   ]
  },
  {
   "cell_type": "markdown",
   "metadata": {
    "id": "1iz7TfdrD8-Q"
   },
   "source": [
    "**Remember:** *You are not allowed to use any modules that have not been used in class!*  \n",
    "\n",
    "*Double check your python notebook that it contains all the answers clearly before submission.*\n",
    "\n",
    "You may document your code like this:\n",
    "\n"
   ]
  },
  {
   "cell_type": "code",
   "execution_count": null,
   "metadata": {
    "id": "n_udzCLdD8-R"
   },
   "outputs": [],
   "source": [
    "def myfunction(arg):\n",
    "\"\"\"\n",
    "This is a docstring. Surrounded by triple double-quotes. Description of the whole function goes here.\n",
    "\"\"\"\n",
    "  # This is a comment, provides concise description of following code.\n",
    "  function_logic = ...\n",
    "pass\n"
   ]
  },
  {
   "cell_type": "markdown",
   "metadata": {
    "id": "QMx5nKesD8-T"
   },
   "source": [
    "##### **Please make sure that you are submitting the following files as part of your homework submission:**\n",
    "1. converter.py  \n",
    "2. seq_utils.py  \n",
    "3. Your jupyter notebook"
   ]
  },
  {
   "cell_type": "markdown",
   "metadata": {
    "id": "AyDTXnw5D8-U"
   },
   "source": [
    "##### **Q1.Converter**  \n",
    "\n",
    "Write a Python module named **converter.py** that contains the following functions:  `distance_points()` and `caffeine_decay()`."
   ]
  },
  {
   "cell_type": "markdown",
   "metadata": {
    "id": "9CpSMUgoD8-U"
   },
   "source": [
    "> **1a. (1 point)**\n",
    "```\n",
    "def distance_points(x1,x2,y1,y2):\n",
    "```\n",
    "Write a function that takes **x and y coordinates of 2 points as input** and **returns the distance between two points as output**.  \n",
    "Formula for the distance between 2 points is given below:"
   ]
  },
  {
   "cell_type": "markdown",
   "metadata": {
    "id": "K9pxOuS1D8-V"
   },
   "source": [
    "$$\\text{Distance} = \\sqrt{(x1 - x2)^2 +(y1 - y2)^2}$$"
   ]
  },
  {
   "cell_type": "markdown",
   "metadata": {
    "id": "lal6T5MXD8-V"
   },
   "source": [
    "Your output should look like this:\n",
    "\n",
    "    “The distance between (x1,y1) and (x2,y2) is: output”\n",
    "  \n",
    "  where x1, x2, y1 and y2 are the given numbers."
   ]
  },
  {
   "cell_type": "markdown",
   "metadata": {
    "id": "0qEs4faoD8-W"
   },
   "source": [
    "> **1b. (1 point)**  \n",
    "\n",
    "`def caffeine_decay(initial_amount, hours):`  \n",
    "\n",
    "Define a function that calculates the remaining amount of caffeine in the body after a certain number of hours, assuming a half-life of 5 hours.\n",
    "\n",
    "Formula of decay is given belowed:"
   ]
  },
  {
   "cell_type": "markdown",
   "metadata": {
    "id": "f5YQFx0aD8-W"
   },
   "source": [
    "$$\\text{Remaining amount} = \\text{Initial amount} \\times (0.5)^{\\frac{\\text{hours}}{5}}$$"
   ]
  },
  {
   "cell_type": "markdown",
   "metadata": {
    "id": "3WYdhit1D8-W"
   },
   "source": [
    "The function will receive **a list** of `initial amount of caffeine` and **a list** of `decay hours`. The function should ouput **a list** of `remaining amount of caffeine` in human body.\n",
    "\n",
    "If the user **type in wrong value types** (e.g. string) of initial amount or hours, try to use `Exception`statement to capture the error and **return \"Please use correct numerical number as inputs!\"**.   \n",
    "\n",
    "Otherwise, your output should look like this: `The remaining amount of caffeine is [remaining amount] mg`."
   ]
  },
  {
   "cell_type": "markdown",
   "metadata": {
    "id": "_2A_xJeqD8-W"
   },
   "source": [
    "##### **Test your code:**"
   ]
  },
  {
   "cell_type": "markdown",
   "metadata": {
    "id": "PLJ7vC_uD8-X"
   },
   "source": [
    "Now since you have created your own module converter.py, let's test your module in the notebook by importing them into your python notebook.\n",
    "\n",
    "Test your module by running it on the following given data below and ensure that it runs without any error and outputs in a clear and concise way."
   ]
  },
  {
   "cell_type": "markdown",
   "metadata": {
    "id": "n67T3nDpD8-X"
   },
   "source": [
    "##### **Distance between points** (1 point)\n",
    "Point data: `(x1,y1) = (3,1)` ; `(x2,y2) = (-4, 10)`. Try to use your function to calculate what is the distance between these two points?"
   ]
  },
  {
   "cell_type": "code",
   "execution_count": 2,
   "metadata": {
    "id": "I1xPdECED8-X"
   },
   "outputs": [
    {
     "name": "stdout",
     "output_type": "stream",
     "text": [
      "The distance between (3,1) and (-4,10) is: 11.40175425099138\n"
     ]
    }
   ],
   "source": [
    "import converter\n",
    "converter.distance_points(3,-4,1,10)"
   ]
  },
  {
   "cell_type": "markdown",
   "metadata": {
    "id": "hoiCNUsVD8-X"
   },
   "source": [
    "##### **Caffeine decay** (2 points total)\n",
    "Initial concentration: `[10, 30, 9]` mg  \n",
    "Decay hours: `[4,15,8]`  \n",
    "The numbers with same index in these two list come from the same person.\n",
    "\n",
    "Could you use your function to tell what is the remaining concentration of caffeine in these three people? (1 point)"
   ]
  },
  {
   "cell_type": "code",
   "execution_count": 1,
   "metadata": {
    "id": "WGHIlbjVD8-X"
   },
   "outputs": [
    {
     "name": "stdout",
     "output_type": "stream",
     "text": [
      "The remaining amount of caffeine is [5.743491774985174, 3.75, 2.968892799239012] mg\n"
     ]
    }
   ],
   "source": [
    "import converter\n",
    "x = [10,30,9]\n",
    "y = [4,15,8]\n",
    "converter.caffeine_decay(x,y)"
   ]
  },
  {
   "cell_type": "markdown",
   "metadata": {
    "id": "L5OWQpQfD8-Y"
   },
   "source": [
    "Initial concentration: `[7, \"89\"]` mg  \n",
    "Decay hours: `[20, 10]`  \n",
    "\n",
    "When you type in the data, you accidentally type the wrong data types. Can your function distinguish the input problem? (1 point)"
   ]
  },
  {
   "cell_type": "code",
   "execution_count": 3,
   "metadata": {
    "id": "d8qeLSjwD8-Y"
   },
   "outputs": [
    {
     "name": "stdout",
     "output_type": "stream",
     "text": [
      "Please use correct numerical number as inputs!\n"
     ]
    }
   ],
   "source": [
    "import converter\n",
    "x = [7,\"89\"]\n",
    "y = [20,10]\n",
    "converter.caffeine_decay(x,y)"
   ]
  },
  {
   "cell_type": "markdown",
   "metadata": {
    "id": "pxWA6jVUD8-Y"
   },
   "source": [
    "##### **Q2.Sequence Utilities**"
   ]
  },
  {
   "cell_type": "markdown",
   "metadata": {
    "id": "amBkP5L1D8-Y"
   },
   "source": [
    "Write a Python module named **seq_utils.py** that contains the following functions:  "
   ]
  },
  {
   "cell_type": "markdown",
   "metadata": {
    "id": "ClwXs8xqD8-Y"
   },
   "source": [
    ">**2a. (1 point)**  \n",
    "\n",
    "`def fasta_load(filename):`  \n",
    "Create a function named `fasta_load()` that takes **a FASTA file (str) as input** and **returns only the nucleotide sequence(s) (str) found in that file as a list in output** assuming it is a FASTA file containing one or more sequences (using the FASTA file format). **Print as a list containing only the sequences.** \n",
    " \n",
    "Besides, try to use `Exception` statement to capture the error if the function cannot find the file, and return **\"Cannot find the files\"** instead."
   ]
  },
  {
   "cell_type": "markdown",
   "metadata": {
    "id": "KgcGZJvLD8-Y"
   },
   "source": [
    ">**2b. (1 point)**  \n",
    "\n",
    "`def validate_sequence(sequence):`  \n",
    "Now write a function named `validate_sequence()` where it **accepts a list of the sequences obtained from the above function as input** and **validates if the sequence/sequences in the list from the loaded FASTA have only **A,T,G,C** in it**.  \n",
    "\n",
    "If it is **true**, return \"The sequence contains only nucleotides A,T,G,C\", **else** return \"Provide a valid sequence\"."
   ]
  },
  {
   "cell_type": "markdown",
   "metadata": {
    "id": "eLRWUsnzD8-Y"
   },
   "source": [
    "**NOTE:** Each sequence should print a response whether it is valid or not."
   ]
  },
  {
   "cell_type": "markdown",
   "metadata": {
    "id": "vvolQj3XD8-Y"
   },
   "source": [
    ">**2c. (1 point)**  \n",
    "\n",
    "`def Tm_calculation(sequence):`  \n",
    "Now write a function that **takes the list of the sequence obtained from the above function as input** and **prints the melting temperature of each sequence as output.**  \n",
    "\n",
    "You can calculate the melting temperature using this simplified equation (even though the sequence might be too long to be primers):"
   ]
  },
  {
   "cell_type": "markdown",
   "metadata": {},
   "source": [
    "$$Tm= 64.9 + 41 \\times \\frac{(yG+zC-16.4)}{(wA+xT+yG+zC)}$$"
   ]
  },
  {
   "cell_type": "markdown",
   "metadata": {},
   "source": [
    "where w,x,y,z are the number of the bases A,T,G,C in the sequence, respectively."
   ]
  },
  {
   "cell_type": "markdown",
   "metadata": {
    "id": "Lp7f4AlgD8-Z"
   },
   "source": [
    "**NOTE**: Your output should print Tm for each sequence in the list."
   ]
  },
  {
   "cell_type": "markdown",
   "metadata": {
    "id": "Ln91ri8vD8-Z"
   },
   "source": [
    "##### **Test your code** (2 points):\n",
    "Now since you have created your own module `seq_utils.py`, let's test your module in the notebook."
   ]
  },
  {
   "cell_type": "markdown",
   "metadata": {
    "id": "oykbnpAmD8-Z"
   },
   "source": [
    "Test your module by running it on the `multiple_sequences.fa` FASTA file (attached with this homework) and ensure that it runs without any error and outputs in a clear and concise way."
   ]
  },
  {
   "cell_type": "code",
   "execution_count": 1,
   "metadata": {
    "id": "qFikzKghD8-Z"
   },
   "outputs": [],
   "source": [
    "import seq_utils"
   ]
  },
  {
   "cell_type": "markdown",
   "metadata": {
    "id": "ZZfUSF1mD8-Z"
   },
   "source": [
    "Check your three functions in subsequent three code cells."
   ]
  },
  {
   "cell_type": "code",
   "execution_count": 2,
   "metadata": {
    "id": "u2vNLcT2D8-Z"
   },
   "outputs": [
    {
     "name": "stdout",
     "output_type": "stream",
     "text": [
      "['GGGGAAAGACTCACCAAAAAGATGACATTTGAGCATAGATTTAAGATGAGTGAGTATGCAAGCCATGAAGCCATTTAGAAGAAGACTTACGGGCTTTAAGAAATAAACAGTGTGTAGGTACCAAAAAGCCAAAAATATATTTTATTGTTAGCACTGTATTTTCTAGGAAGTGAAATGAAGTAGAAGGCATTGGAAAACATGGCAAGATAG', 'CAGTGATGGAGGAAATGTTGGTTGTGTTGATGTAATTATTCAAAGAGCATACCCTATACAGTGGATGGAGAAGACATCATCTGGATTATACATATTTCGCAATGAAAGAGAGGAAGAAAAGGAAGCAGCAAAATATGTGGAGGCCCAACAAAAGAGACTAGAAGCCTTATTCACTAAAATTCAGGAGGAATTTGAAGAACATGAAGAAAA', 'AGTTTGTTTCATACACCAAAGTTTGTGAAGGGTCGTCAGACACCAAAACATATTTCTGAAAGTCTAGGAGCTGAGGTGGATCCTGATATGTCTTGGTCAAGTTCTTTAGCTACACCACCCACCCTTAGTTCTACTGTGCTCATAGTCAGAAATGAAGAAGCATCTGAAACTGTATTTCCTCATGATACTACTGCTAATGTGAAAAGCTATTTTTCCAATCATGATGAAAGTCTGAAGAAAAATGATAGATTTATCGCTTCTGTGACAGACAGTGAAAACA', 'CAGCCCAGATGACTTCAAAGTCTTGTAAAGGGGAGAAAGAGATTGATGACCAAAAGAACTGCAAAAAGAGAAGAGCCTTGGATTTCTTGAGTAGACTGCCTTTACCTCCACCTGTTAGTCCCATTTGTACATTTGTTTCTCCGGCTGCACAGAAGGCATTTCAGCCACCAAGGAGTTGTGGCACCAAATACGAAACACCCATAAAGAAAAAAGAACTGAATTCTCCTCAGATGACTCCATTTAAAAAATTCAATGAAATTTCTCTTTTGGAAAGTAATTC']\n"
     ]
    }
   ],
   "source": [
    "sequences = seq_utils.fasta_load(\"multiple_sequences.fa\")"
   ]
  },
  {
   "cell_type": "code",
   "execution_count": 3,
   "metadata": {
    "id": "zpjCXrUuD8-Z"
   },
   "outputs": [
    {
     "name": "stdout",
     "output_type": "stream",
     "text": [
      "The sequence contains only nucleotides A,T,G,C.\n",
      "The sequence contains only nucleotides A,T,G,C.\n",
      "The sequence contains only nucleotides A,T,G,C.\n",
      "The sequence contains only nucleotides A,T,G,C.\n"
     ]
    }
   ],
   "source": [
    "seq_utils.validate_sequence(sequences)"
   ]
  },
  {
   "cell_type": "code",
   "execution_count": 4,
   "metadata": {
    "id": "LUtpYNbQD8-Z"
   },
   "outputs": [
    {
     "name": "stdout",
     "output_type": "stream",
     "text": [
      "76.34095238095239\n",
      "76.92666666666668\n",
      "78.16642857142858\n",
      "78.89857142857143\n"
     ]
    }
   ],
   "source": [
    "seq_utils.Tm_calculation(sequences)"
   ]
  }
 ],
 "metadata": {
  "colab": {
   "provenance": []
  },
  "kernelspec": {
   "display_name": "Python (pyenv)",
   "language": "python",
   "name": "myenv"
  },
  "language_info": {
   "codemirror_mode": {
    "name": "ipython",
    "version": 3
   },
   "file_extension": ".py",
   "mimetype": "text/x-python",
   "name": "python",
   "nbconvert_exporter": "python",
   "pygments_lexer": "ipython3",
   "version": "3.13.7"
  }
 },
 "nbformat": 4,
 "nbformat_minor": 4
}
