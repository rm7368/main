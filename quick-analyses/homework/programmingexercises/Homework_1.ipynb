{
 "cells": [
  {
   "cell_type": "markdown",
   "metadata": {
    "id": "VZStD7i1P7Co"
   },
   "source": [
    "## **Homework 01 - Translation.**\n",
    "### ***Your Name:*** Razvan Matei\n",
    "### ***Partner Name:*** Kyle Kalindjian\n",
    "**Due: 09/17/2025**\n",
    "#### *Answer all the questions, and submit the jupyter notebook on Gradescope*\n",
    "\n",
    "***Make sure your code is well documented with comments. Clearly mark different sections of your code corresponding to the questions. Make sure you have generated all the outputs.***"
   ]
  },
  {
   "cell_type": "markdown",
   "metadata": {
    "id": "IFQYFAR_YNT-"
   },
   "source": [
    "## **Part 1: Dictionary**\n",
    "Imagine you work in a yeast genetics lab and study the mechanism of nutrient uptake in brewer's yeast, *Saccharomyces cerevisiae*. One day your PI (lab boss) gives you a plasmid containing yeast **GAP1** gene. You recall that **GAP1** gene is known to encode a protein on the surface of the yeast cell that plays a role in uptaking nutrients. \n",
    "\n",
    "Before you do more experiments, you must check and confirm the plasmid sequence is indeed correct. **Therefore, you want to write python code to convert the DNA sequence into an amino acid sequence. Finally, to confirm, you will compare the results to the known brewer's yeast GAP1 sequence.**"
   ]
  },
  {
   "cell_type": "markdown",
   "metadata": {
    "id": "insuZAWDYNT_"
   },
   "source": [
    "\n",
    "**Below is a dictionary that represents the genetic code, where 3 nucleotides represent an amino acid.**  \n"
   ]
  },
  {
   "cell_type": "code",
   "execution_count": 5,
   "metadata": {
    "id": "Wf8YfY-6Sp9Y"
   },
   "outputs": [],
   "source": [
    "geneticcode = {\n",
    "    'ATA':'I', 'ATC':'I', 'ATT':'I', 'ATG':'M',\n",
    "    'ACA':'T', 'ACC':'T', 'ACG':'T', 'ACT':'T',\n",
    "    'AAC':'N', 'AAT':'N', 'AAA':'K', 'AAG':'K',\n",
    "    'AGC':'S', 'AGT':'S', 'AGA':'R', 'AGG':'R',\n",
    "    'CTA':'L', 'CTC':'L', 'CTG':'L', 'CTT':'L',\n",
    "    'CCA':'P', 'CCC':'P', 'CCG':'P', 'CCT':'P',\n",
    "    'CAC':'H', 'CAT':'H', 'CAA':'Q', 'CAG':'Q',\n",
    "    'CGA':'R', 'CGC':'R', 'CGG':'R', 'CGT':'R',\n",
    "    'GTA':'V', 'GTC':'V', 'GTG':'V', 'GTT':'V',\n",
    "    'GCA':'A', 'GCC':'A', 'GCG':'A', 'GCT':'A',\n",
    "    'GAC':'D', 'GAT':'D', 'GAA':'E', 'GAG':'E',\n",
    "    'GGA':'G', 'GGC':'G', 'GGG':'G', 'GGT':'G',\n",
    "    'TCA':'S', 'TCC':'S', 'TCG':'S', 'TCT':'S',\n",
    "    'TTC':'F', 'TTT':'F', 'TTA':'L', 'TTG':'L',\n",
    "    'TAC':'Y', 'TAT':'Y', 'TAA':'_', 'TAG':'_',\n",
    "    'TGC':'C', 'TGT':'C', 'TGA':'_', 'TGG':'W'}"
   ]
  },
  {
   "cell_type": "markdown",
   "metadata": {
    "id": "Ji8bw5j-YNT_"
   },
   "source": [
    "\n",
    "\n",
    "**Below is the GAP1 gene sequence you find in the plasmid:**\n",
    "```\n",
    "sequence=\"ATGAGTAATACTTCTTCGTACGAGAAGAATAATCCAGATAATCTGAAACACAATGGTATTACCATAGATTCTGAGTTTCTAACTCAGGAGCCAATAACCATTCCCTCAAATGGCTCCGCTGTTTCTATTGACGAAACAGGTTCAGGGTCCAAATGGCAAGACTTTAAAGATTC\"\n",
    "```\n",
    "\n"
   ]
  },
  {
   "cell_type": "markdown",
   "metadata": {
    "id": "iRUc7njxeOGl"
   },
   "source": [
    "\n",
    "#### Using the given **dictionary and sequence** above, answer the following questions below. Carefully read each and every question before writing codes."
   ]
  },
  {
   "cell_type": "markdown",
   "metadata": {
    "id": "SuzmrQNBYNT_"
   },
   "source": [
    "**1.** You never know what might happen during multiple rounds of copy-paste. Therefore, you want to confirm the sequence you get is correct. Try to use if-else statement to first check whether the sequence satisfies the following two criteria:\n",
    "- First, the sequence should only contain **[A,T.G,C]**. If not, return a message \"**Invalid sequence, please provide a correct sequence**\".\n",
    "- It should be divisible by 3. If not, return a message \"**Invalid sequence, not divisible by 3**\".\n",
    "- If both of them are satisfied, return a message \"**Correct sequence!!**\"."
   ]
  },
  {
   "cell_type": "markdown",
   "metadata": {
    "id": "FAHxYKy7YNUA"
   },
   "source": [
    "First store the sequence in a variable. **(1 point)**"
   ]
  },
  {
   "cell_type": "code",
   "execution_count": 1,
   "metadata": {
    "colab": {
     "base_uri": "https://localhost:8080/",
     "height": 107
    },
    "id": "iW8eemAEYNUA",
    "outputId": "837026f2-15de-4396-9be6-ae4cd6bc505d"
   },
   "outputs": [],
   "source": [
    "seq = \"ATGAGTAATACTTCTTCGTACGAGAAGAATAATCCAGATAATCTGAAACACAATGGTATTACCATAGATTCTGAGTTTCTAACTCAGGAGCCAATAACCATTCCCTCAAATGGCTCCGCTGTTTCTATTGACGAAACAGGTTCAGGGTCCAAATGGCAAGACTTTAAAGAT\""
   ]
  },
  {
   "cell_type": "markdown",
   "metadata": {
    "id": "05otsh2xYNUA"
   },
   "source": [
    "Then write an **if-else** statement to check whether the sequence is valid. **(1 point)**"
   ]
  },
  {
   "cell_type": "code",
   "execution_count": 2,
   "metadata": {
    "colab": {
     "base_uri": "https://localhost:8080/"
    },
    "id": "suyOJlSnYNUA",
    "outputId": "b548d96d-374c-4357-b257-4d07910b7d4b"
   },
   "outputs": [
    {
     "name": "stdout",
     "output_type": "stream",
     "text": [
      "Correct sequence!!\n"
     ]
    }
   ],
   "source": [
    "# First statement compares unique characters in the strings. Sorted function used to ensure unique characters line up in the same way\n",
    "if sorted(''.join(set(seq))) != sorted(\"ATCG\"):\n",
    "    print(\"Invalid sequence, please provide a correct sequence.\")\n",
    "\n",
    "# Second statement uses modulus to evaluate divisibility.\n",
    "elif len(seq) % 3 != 0:\n",
    "    print(\"Invalid sequence, not divisible by 3.\")\n",
    "else:\n",
    "    print(\"Correct sequence!!\")"
   ]
  },
  {
   "cell_type": "markdown",
   "metadata": {
    "id": "TyfJLII-a-2V"
   },
   "source": [
    "**2.**   After making sure the sequence looks like a DNA sequence that is divisible by 3, use a **while loop** to Split the sequence into triplets. **(1 point)**\n",
    "  \n",
    "*   *Remember the codons are nonoverlapping.* For example, the first is **ATG** and the next is **GCC**."
   ]
  },
  {
   "cell_type": "code",
   "execution_count": 3,
   "metadata": {
    "colab": {
     "base_uri": "https://localhost:8080/"
    },
    "id": "RA6N_DSIbEaW",
    "outputId": "9984d1f5-f3cc-4b13-ca20-61967ef6fabd"
   },
   "outputs": [
    {
     "name": "stdout",
     "output_type": "stream",
     "text": [
      "['ATG', 'AGT', 'AAT', 'ACT', 'TCT', 'TCG', 'TAC', 'GAG', 'AAG', 'AAT', 'AAT', 'CCA', 'GAT', 'AAT', 'CTG', 'AAA', 'CAC', 'AAT', 'GGT', 'ATT', 'ACC', 'ATA', 'GAT', 'TCT', 'GAG', 'TTT', 'CTA', 'ACT', 'CAG', 'GAG', 'CCA', 'ATA', 'ACC', 'ATT', 'CCC', 'TCA', 'AAT', 'GGC', 'TCC', 'GCT', 'GTT', 'TCT', 'ATT', 'GAC', 'GAA', 'ACA', 'GGT', 'TCA', 'GGG', 'TCC', 'AAA', 'TGG', 'CAA', 'GAC', 'TTT', 'AAA', 'GAT']\n"
     ]
    }
   ],
   "source": [
    "# Define counter and initialize empty list.\n",
    "i = 0\n",
    "seqlist = []\n",
    "\n",
    "# While the counter is less than the length of the sequence, slice the string into triplets. Increases the counter by 3 after every iteration.\n",
    "while i < len(seq):\n",
    "    seqlist.append(seq[i:i+3])\n",
    "    i += 3\n",
    "    continue\n",
    "print(seqlist)"
   ]
  },
  {
   "cell_type": "markdown",
   "metadata": {
    "id": "unMAV-NGcB3c"
   },
   "source": [
    "**3.**  Use a ***for loop*** to identify the amino acids produced by the triplets above. **(1 point)**\n",
    "\n",
    "*Hint: Convert the codons from **Question 2** to amino acids using the dictionary provided above. Focus on lecture 2*"
   ]
  },
  {
   "cell_type": "code",
   "execution_count": 6,
   "metadata": {
    "colab": {
     "base_uri": "https://localhost:8080/"
    },
    "id": "7Iru9_TlYNUB",
    "outputId": "1f5fe0be-584c-4401-8ffb-0295ef033b60"
   },
   "outputs": [
    {
     "name": "stdout",
     "output_type": "stream",
     "text": [
      "['M', 'S', 'N', 'T', 'S', 'S', 'Y', 'E', 'K', 'N', 'N', 'P', 'D', 'N', 'L', 'K', 'H', 'N', 'G', 'I', 'T', 'I', 'D', 'S', 'E', 'F', 'L', 'T', 'Q', 'E', 'P', 'I', 'T', 'I', 'P', 'S', 'N', 'G', 'S', 'A', 'V', 'S', 'I', 'D', 'E', 'T', 'G', 'S', 'G', 'S', 'K', 'W', 'Q', 'D', 'F', 'K', 'D']\n"
     ]
    }
   ],
   "source": [
    "# Initialize empty list.\n",
    "aalist = []\n",
    "\n",
    "# Lookup protein code in dictionary. Append corresponding amino acid to list.\n",
    "for i in seqlist:\n",
    "    aa = geneticcode[str(i)]\n",
    "    aalist.append(aa)\n",
    "print(aalist)"
   ]
  },
  {
   "cell_type": "markdown",
   "metadata": {
    "id": "zQHRUjcOcIxM"
   },
   "source": [
    "**4.** Combine the amino acids to form the protein sequence. In other words, convert it from **list** into **string**. **(1 point)**"
   ]
  },
  {
   "cell_type": "code",
   "execution_count": 7,
   "metadata": {
    "colab": {
     "base_uri": "https://localhost:8080/"
    },
    "id": "mValQ_PZcNiw",
    "outputId": "4481a533-6bf7-4bfa-a416-bf2f67b947a5"
   },
   "outputs": [
    {
     "name": "stdout",
     "output_type": "stream",
     "text": [
      "MSNTSSYEKNNPDNLKHNGITIDSEFLTQEPITIPSNGSAVSIDETGSGSKWQDFKD\n"
     ]
    }
   ],
   "source": [
    "# Join list with no separator\n",
    "aalist = \"\".join(aalist)\n",
    "print(aalist)"
   ]
  },
  {
   "cell_type": "markdown",
   "metadata": {
    "id": "9yJEV-9mYNUB"
   },
   "source": [
    "**5.** You will now compare the protein sequence in your plasmid to the yeast GAP1 protein sequence from Uniprot, a protein database.\n",
    "```\n",
    "   GAP1_uniprot = \"MSNTSSYEKNNPDNLKHNGITIDSEFLTQEPITIPSNGSAVSIDETGSGSK\"\n",
    "```\n",
    "Use an **if-else** statement to test whether the sequence in the plasmid is the same as the one provided in GAP1_uniprot. **(1 point)**\n",
    "\n",
    "*   If not, return a message to the user, “The protein sequence doesn't encode GAP1.”\n",
    "\n",
    "*   If the sequence is OK, then return the protein sequence."
   ]
  },
  {
   "cell_type": "code",
   "execution_count": 8,
   "metadata": {
    "colab": {
     "base_uri": "https://localhost:8080/"
    },
    "id": "B255wDGR6hYz",
    "outputId": "39c73133-9d20-429d-84e3-569840d478e5"
   },
   "outputs": [
    {
     "name": "stdout",
     "output_type": "stream",
     "text": [
      "The protein sequence doesn't encode GAP1.\n"
     ]
    }
   ],
   "source": [
    "GAP1_uniprot = \"MSNTSSYEKNNPDNLKHNGITIDSEFLTQEPITIPSNGSAVSIDETGSGSK\"\n",
    "if GAP1_uniprot != aalist:\n",
    "    print(\"The protein sequence doesn't encode GAP1.\")\n",
    "else:\n",
    "    print(aalist)"
   ]
  },
  {
   "cell_type": "markdown",
   "metadata": {
    "id": "4T1D9QFxf6oG"
   },
   "source": [
    "**6.** Use the builtin functions in python to get the keys and values of the dictionary ***geneticcode***.  **(1 point)**\n"
   ]
  },
  {
   "cell_type": "code",
   "execution_count": 9,
   "metadata": {
    "colab": {
     "base_uri": "https://localhost:8080/"
    },
    "id": "56uQQbHWgbjj",
    "outputId": "acde6d78-c70c-44ca-eb1f-a32d81e0e842"
   },
   "outputs": [
    {
     "name": "stdout",
     "output_type": "stream",
     "text": [
      "dict_keys(['ATA', 'ATC', 'ATT', 'ATG', 'ACA', 'ACC', 'ACG', 'ACT', 'AAC', 'AAT', 'AAA', 'AAG', 'AGC', 'AGT', 'AGA', 'AGG', 'CTA', 'CTC', 'CTG', 'CTT', 'CCA', 'CCC', 'CCG', 'CCT', 'CAC', 'CAT', 'CAA', 'CAG', 'CGA', 'CGC', 'CGG', 'CGT', 'GTA', 'GTC', 'GTG', 'GTT', 'GCA', 'GCC', 'GCG', 'GCT', 'GAC', 'GAT', 'GAA', 'GAG', 'GGA', 'GGC', 'GGG', 'GGT', 'TCA', 'TCC', 'TCG', 'TCT', 'TTC', 'TTT', 'TTA', 'TTG', 'TAC', 'TAT', 'TAA', 'TAG', 'TGC', 'TGT', 'TGA', 'TGG']) dict_values(['I', 'I', 'I', 'M', 'T', 'T', 'T', 'T', 'N', 'N', 'K', 'K', 'S', 'S', 'R', 'R', 'L', 'L', 'L', 'L', 'P', 'P', 'P', 'P', 'H', 'H', 'Q', 'Q', 'R', 'R', 'R', 'R', 'V', 'V', 'V', 'V', 'A', 'A', 'A', 'A', 'D', 'D', 'E', 'E', 'G', 'G', 'G', 'G', 'S', 'S', 'S', 'S', 'F', 'F', 'L', 'L', 'Y', 'Y', '_', '_', 'C', 'C', '_', 'W'])\n"
     ]
    }
   ],
   "source": [
    "k = geneticcode.keys()\n",
    "v = geneticcode.values()\n",
    "print(k, v)"
   ]
  },
  {
   "cell_type": "markdown",
   "metadata": {
    "id": "z0e4YMeogrl7"
   },
   "source": [
    "**7.** After making sure the sequence is correct, you cannot wait to start the experiment. However, your PI asks you to add a small protein tag in front of your GAP1 sequence. The protein tag your PI plans to use is FLAG tag **(amino acid sequence: DYKDDDDK)**, which will enable the further visualization of the GAP1 protein through immunostaining or biochemistry.  \n",
    "\n",
    "Concatenate the string **‘DYKDDDDK’** and the GAP1 protein sequence above such that the new sequence starts with **‘DYKDDDDK’** and ends with the GAP1 protein sequence shared above. **(1 point)**\n"
   ]
  },
  {
   "cell_type": "code",
   "execution_count": 10,
   "metadata": {
    "id": "DJeQNER8g_Pj"
   },
   "outputs": [],
   "source": [
    "# Join sequences without a separator.\n",
    "flag = \"DYKDDDDK\"\n",
    "seqs = [flag, GAP1_uniprot]\n",
    "finalseq = \"\".join(seqs)"
   ]
  },
  {
   "cell_type": "markdown",
   "metadata": {
    "id": "WhcnjefaYNUC"
   },
   "source": [
    "Print the new protein sequence you get."
   ]
  },
  {
   "cell_type": "code",
   "execution_count": 11,
   "metadata": {
    "colab": {
     "base_uri": "https://localhost:8080/"
    },
    "id": "R2a_auZL6mZJ",
    "outputId": "ae0fe9cb-6621-4d38-b040-ba3052539b1e"
   },
   "outputs": [
    {
     "name": "stdout",
     "output_type": "stream",
     "text": [
      "DYKDDDDKMSNTSSYEKNNPDNLKHNGITIDSEFLTQEPITIPSNGSAVSIDETGSGSK\n"
     ]
    }
   ],
   "source": [
    "print(finalseq)"
   ]
  },
  {
   "cell_type": "markdown",
   "metadata": {
    "id": "reRN96UEYNUC"
   },
   "source": [
    "Finally, you are done with all the tasks your PI told you to do and now you can do your experiments!"
   ]
  },
  {
   "cell_type": "markdown",
   "metadata": {
    "id": "XUmRZT2xjjk6"
   },
   "source": [
    "***"
   ]
  },
  {
   "cell_type": "markdown",
   "metadata": {
    "id": "BW6WLtC_hVuz"
   },
   "source": [
    "## **Part 2: Data Structures**\n",
    "\n",
    " Below is a list of sequences:\n",
    "\n",
    "```\n",
    "sequence_list=['ATCG','ACGT','ATGGGTCGAT','AGCT','ACATCG']\n",
    "```\n",
    "Use the list called ***sequence_list*** above to answer the following questions programmatically:\n",
    "\n"
   ]
  },
  {
   "cell_type": "markdown",
   "metadata": {
    "id": "B_s_YSaphVw5"
   },
   "source": [
    "**2.1)** Find the indexes of sequences **greater than or equal to length 6** in the list of sequences shared above. **(1 point)**\n",
    "\n",
    "*Hint: use condition statements. Determine length for every sequence in the list and then check if >=6, then those that meet the requirement should get their indexes printed.*"
   ]
  },
  {
   "cell_type": "code",
   "execution_count": 12,
   "metadata": {
    "id": "NCDU97L5iohS"
   },
   "outputs": [
    {
     "name": "stdout",
     "output_type": "stream",
     "text": [
      "2\n",
      "4\n"
     ]
    }
   ],
   "source": [
    "sequence_list=['ATCG','ACGT','ATGGGTCGAT','AGCT','ACATCG']\n",
    "for i in sequence_list:\n",
    "    if len(i) >= 6:\n",
    "        print(sequence_list.index(i))\n",
    "    else:\n",
    "        continue"
   ]
  },
  {
   "cell_type": "markdown",
   "metadata": {
    "id": "u1lD7qjsio_L"
   },
   "source": [
    "**2.2**) Replace the sequences with length **greater than or equal to 6** in the list with **'ATTT'**. **(1 point)**\n"
   ]
  },
  {
   "cell_type": "code",
   "execution_count": 13,
   "metadata": {
    "colab": {
     "base_uri": "https://localhost:8080/"
    },
    "id": "iBVn-Wqzi6o3",
    "outputId": "e41d2aae-fe6a-48c9-b8bb-855ca404b0d4"
   },
   "outputs": [
    {
     "name": "stdout",
     "output_type": "stream",
     "text": [
      "['ATCG', 'ACGT', 'ATTT', 'AGCT', 'ATTT']\n"
     ]
    }
   ],
   "source": [
    "# Loop through all items of list. If their length is greater than or equal to 6, re-assign the element of that list to \"ATTT\".\n",
    "for i in sequence_list:\n",
    "    if len(i) >= 6:\n",
    "        sequence_list[sequence_list.index(i)] = \"ATTT\"\n",
    "    else:\n",
    "        continue\n",
    "print(sequence_list)"
   ]
  },
  {
   "cell_type": "markdown",
   "metadata": {
    "id": "mpf_iZP_i8GL"
   },
   "source": [
    "**2.3)** Convert the original *sequence_list* from 2.1 (without removing large sequences) to a tuple by using pythons inbuilt functions.\n",
    "\n",
    "Try performing the same operations mentioned in ***Question 2.2)*** using the tuple.   \n",
    "Are you able to perform these operations? Explain your answer. **(2 point)**\n"
   ]
  },
  {
   "cell_type": "code",
   "execution_count": 14,
   "metadata": {
    "colab": {
     "base_uri": "https://localhost:8080/",
     "height": 233
    },
    "id": "SS1iBHn06pbH",
    "outputId": "5496d507-2424-49f5-de64-1a20d9d67bf4"
   },
   "outputs": [
    {
     "name": "stdout",
     "output_type": "stream",
     "text": [
      "['ATCG', 'ACGT', 'ATGGGTCGAT', 'AGCT', 'ACATCG']\n",
      "('ATCG', 'ACGT', 'ATGGGTCGAT', 'AGCT', 'ACATCG')\n"
     ]
    },
    {
     "ename": "TypeError",
     "evalue": "'tuple' object does not support item assignment",
     "output_type": "error",
     "traceback": [
      "\u001b[31m---------------------------------------------------------------------------\u001b[39m",
      "\u001b[31mTypeError\u001b[39m                                 Traceback (most recent call last)",
      "\u001b[36mCell\u001b[39m\u001b[36m \u001b[39m\u001b[32mIn[14]\u001b[39m\u001b[32m, line 8\u001b[39m\n\u001b[32m      6\u001b[39m \u001b[38;5;28;01mfor\u001b[39;00m i \u001b[38;5;129;01min\u001b[39;00m seqtuple:\n\u001b[32m      7\u001b[39m     \u001b[38;5;28;01mif\u001b[39;00m \u001b[38;5;28mlen\u001b[39m(i) >= \u001b[32m6\u001b[39m:\n\u001b[32m----> \u001b[39m\u001b[32m8\u001b[39m         \u001b[43mseqtuple\u001b[49m\u001b[43m[\u001b[49m\u001b[43mseqtuple\u001b[49m\u001b[43m.\u001b[49m\u001b[43mindex\u001b[49m\u001b[43m(\u001b[49m\u001b[43mi\u001b[49m\u001b[43m)\u001b[49m\u001b[43m]\u001b[49m = \u001b[33m\"\u001b[39m\u001b[33mATTT\u001b[39m\u001b[33m\"\u001b[39m\n\u001b[32m      9\u001b[39m     \u001b[38;5;28;01melse\u001b[39;00m:\n\u001b[32m     10\u001b[39m         \u001b[38;5;28;01mcontinue\u001b[39;00m\n",
      "\u001b[31mTypeError\u001b[39m: 'tuple' object does not support item assignment"
     ]
    }
   ],
   "source": [
    "# Convert original list to tuple, and try to reassign elements of the tuple.\n",
    "orig_list = ['ATCG','ACGT','ATGGGTCGAT','AGCT','ACATCG']\n",
    "seqtuple = tuple(orig_list)\n",
    "print(orig_list)\n",
    "print(seqtuple)\n",
    "for i in seqtuple:\n",
    "    if len(i) >= 6:\n",
    "        seqtuple[seqtuple.index(i)] = \"ATTT\"\n",
    "    else:\n",
    "        continue\n",
    "print(seqtuple)"
   ]
  },
  {
   "cell_type": "markdown",
   "metadata": {},
   "source": [
    "The code above does not function properly as tuples cannot be reassigned. They can be indexed, like a list, but individual elements of a tuple cannot be mutated in the same way a list can. Thus, the assignment of the seqtuple variable fails on line 7."
   ]
  }
 ],
 "metadata": {
  "colab": {
   "provenance": []
  },
  "kernelspec": {
   "display_name": "Python (pyenv)",
   "language": "python",
   "name": "myenv"
  },
  "language_info": {
   "codemirror_mode": {
    "name": "ipython",
    "version": 3
   },
   "file_extension": ".py",
   "mimetype": "text/x-python",
   "name": "python",
   "nbconvert_exporter": "python",
   "pygments_lexer": "ipython3",
   "version": "3.13.7"
  }
 },
 "nbformat": 4,
 "nbformat_minor": 4
}
